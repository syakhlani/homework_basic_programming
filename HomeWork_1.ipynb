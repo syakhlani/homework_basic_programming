{
 "cells": [
  {
   "cell_type": "markdown",
   "metadata": {},
   "source": [
    "# Home_Work Basic Python Programming\n",
    "Description :This code is in response to homework assignments given by speakers from Iykra in the Python Basic Programming lesson.\n",
    "<br> Author: Akhmad Syakhlani\n",
    "<br> Date: 02 October 2019\n",
    "<br> Sources: [Kaggle](https://www.kaggle.com/lava18/google-play-store-apps#googleplaystore.csv)\n",
    "***"
   ]
  },
  {
   "cell_type": "code",
   "execution_count": 1,
   "metadata": {},
   "outputs": [],
   "source": [
    "# Import numpy and pandas package\n",
    "import numpy as np\n",
    "import pandas as pd\n",
    "google_play_apps = pd.read_csv('googleplaystore.csv')"
   ]
  },
  {
   "cell_type": "code",
   "execution_count": 2,
   "metadata": {},
   "outputs": [
    {
     "data": {
      "text/plain": [
       "(10841, 13)"
      ]
     },
     "execution_count": 2,
     "metadata": {},
     "output_type": "execute_result"
    }
   ],
   "source": [
    "google_play_apps.shape"
   ]
  },
  {
   "cell_type": "code",
   "execution_count": 3,
   "metadata": {},
   "outputs": [
    {
     "name": "stdout",
     "output_type": "stream",
     "text": [
      "In the dataset of googleplaystore.csv, it consists of 10841 rows and 13 columns.\n"
     ]
    }
   ],
   "source": [
    "len(google_play_apps)\n",
    "len(google_play_apps.columns)\n",
    "print(\"In the dataset of googleplaystore.csv, it consists of \"+str(len(google_play_apps))+\" rows and \"+str(len(google_play_apps.columns))+\" columns.\")"
   ]
  },
  {
   "cell_type": "markdown",
   "metadata": {},
   "source": [
    "#How many unique apps categories reflected in the dataset? \n",
    "34 unique apps categories they have"
   ]
  },
  {
   "cell_type": "code",
   "execution_count": 4,
   "metadata": {},
   "outputs": [
    {
     "data": {
      "text/plain": [
       "34"
      ]
     },
     "execution_count": 4,
     "metadata": {},
     "output_type": "execute_result"
    }
   ],
   "source": [
    "len(google_play_apps.Category.unique())"
   ]
  },
  {
   "cell_type": "markdown",
   "metadata": {},
   "source": [
    "#How many unique genres according to the dataset?\n",
    "120 unique genres they have"
   ]
  },
  {
   "cell_type": "code",
   "execution_count": 5,
   "metadata": {},
   "outputs": [
    {
     "data": {
      "text/plain": [
       "120"
      ]
     },
     "execution_count": 5,
     "metadata": {},
     "output_type": "execute_result"
    }
   ],
   "source": [
    "len(google_play_apps.Genres.unique())"
   ]
  },
  {
   "cell_type": "markdown",
   "metadata": {},
   "source": [
    "#Which code is appropriate to drop duplicate values in 'App' column and remove its rows in Python?  Assume dataset was loaded as a pandas data frame variable: google_play_apps.\n",
    "\n",
    "answer:\n",
    "google_play_apps.drop_duplicates(subset='App', inplace=True)"
   ]
  },
  {
   "cell_type": "code",
   "execution_count": 6,
   "metadata": {},
   "outputs": [],
   "source": [
    "google_play_apps.drop_duplicates(subset='App', inplace=True)"
   ]
  },
  {
   "cell_type": "markdown",
   "metadata": {},
   "source": [
    "#Upon removing duplicate of App column, please run the following code to remove a row that contain 'Free' value at the 'Installs' column. You can check first with this code: \n",
    "\n",
    "google_play_apps[google_play_apps['Installs']=='Free']"
   ]
  },
  {
   "cell_type": "code",
   "execution_count": 7,
   "metadata": {},
   "outputs": [
    {
     "data": {
      "text/html": [
       "<div>\n",
       "<style scoped>\n",
       "    .dataframe tbody tr th:only-of-type {\n",
       "        vertical-align: middle;\n",
       "    }\n",
       "\n",
       "    .dataframe tbody tr th {\n",
       "        vertical-align: top;\n",
       "    }\n",
       "\n",
       "    .dataframe thead th {\n",
       "        text-align: right;\n",
       "    }\n",
       "</style>\n",
       "<table border=\"1\" class=\"dataframe\">\n",
       "  <thead>\n",
       "    <tr style=\"text-align: right;\">\n",
       "      <th></th>\n",
       "      <th>App</th>\n",
       "      <th>Category</th>\n",
       "      <th>Rating</th>\n",
       "      <th>Reviews</th>\n",
       "      <th>Size</th>\n",
       "      <th>Installs</th>\n",
       "      <th>Type</th>\n",
       "      <th>Price</th>\n",
       "      <th>Content Rating</th>\n",
       "      <th>Genres</th>\n",
       "      <th>Last Updated</th>\n",
       "      <th>Current Ver</th>\n",
       "      <th>Android Ver</th>\n",
       "    </tr>\n",
       "  </thead>\n",
       "  <tbody>\n",
       "    <tr>\n",
       "      <th>10472</th>\n",
       "      <td>Life Made WI-Fi Touchscreen Photo Frame</td>\n",
       "      <td>1.9</td>\n",
       "      <td>19.0</td>\n",
       "      <td>3.0M</td>\n",
       "      <td>1,000+</td>\n",
       "      <td>Free</td>\n",
       "      <td>0</td>\n",
       "      <td>Everyone</td>\n",
       "      <td>NaN</td>\n",
       "      <td>February 11, 2018</td>\n",
       "      <td>1.0.19</td>\n",
       "      <td>4.0 and up</td>\n",
       "      <td>NaN</td>\n",
       "    </tr>\n",
       "  </tbody>\n",
       "</table>\n",
       "</div>"
      ],
      "text/plain": [
       "                                           App Category  Rating Reviews  \\\n",
       "10472  Life Made WI-Fi Touchscreen Photo Frame      1.9    19.0    3.0M   \n",
       "\n",
       "         Size Installs Type     Price Content Rating             Genres  \\\n",
       "10472  1,000+     Free    0  Everyone            NaN  February 11, 2018   \n",
       "\n",
       "      Last Updated Current Ver Android Ver  \n",
       "10472       1.0.19  4.0 and up         NaN  "
      ]
     },
     "execution_count": 7,
     "metadata": {},
     "output_type": "execute_result"
    }
   ],
   "source": [
    "google_play_apps[google_play_apps['Installs']=='Free'] "
   ]
  },
  {
   "cell_type": "markdown",
   "metadata": {},
   "source": [
    "#To remove that specific row:\n",
    "\n",
    "google_play_apps = google_play_apps[google_play_apps['Installs'] != 'Free']"
   ]
  },
  {
   "cell_type": "code",
   "execution_count": 8,
   "metadata": {},
   "outputs": [],
   "source": [
    "google_play_apps = google_play_apps[google_play_apps['Installs'] != 'Free']"
   ]
  },
  {
   "cell_type": "markdown",
   "metadata": {},
   "source": [
    "#If you want to remove character '+' in column 'Installs', you can run the following codes in Python.\n",
    "\n",
    "google_play_apps['Installs'] = google_play_apps['Installs'].apply(lambda x: x.replace('+','') if '+' in str(x) else x)"
   ]
  },
  {
   "cell_type": "code",
   "execution_count": 9,
   "metadata": {},
   "outputs": [],
   "source": [
    "google_play_apps['Installs'] = google_play_apps['Installs'].apply(lambda x: x.replace('+','') if '+' in str(x) else x)"
   ]
  },
  {
   "cell_type": "code",
   "execution_count": 10,
   "metadata": {},
   "outputs": [
    {
     "data": {
      "text/plain": [
       "0            10,000\n",
       "1           500,000\n",
       "2         5,000,000\n",
       "3        50,000,000\n",
       "4           100,000\n",
       "5            50,000\n",
       "6            50,000\n",
       "7         1,000,000\n",
       "8         1,000,000\n",
       "9            10,000\n",
       "10        1,000,000\n",
       "11        1,000,000\n",
       "12       10,000,000\n",
       "13          100,000\n",
       "14          100,000\n",
       "15            5,000\n",
       "16          500,000\n",
       "17           10,000\n",
       "18        5,000,000\n",
       "19       10,000,000\n",
       "20          100,000\n",
       "21          100,000\n",
       "22          500,000\n",
       "23          100,000\n",
       "24           50,000\n",
       "25           10,000\n",
       "26          500,000\n",
       "27          100,000\n",
       "28           10,000\n",
       "29          100,000\n",
       "            ...    \n",
       "10811           100\n",
       "10812         1,000\n",
       "10813        10,000\n",
       "10814        50,000\n",
       "10815       500,000\n",
       "10816           100\n",
       "10817       100,000\n",
       "10818        10,000\n",
       "10819         5,000\n",
       "10820         1,000\n",
       "10821            50\n",
       "10822            10\n",
       "10823           100\n",
       "10824        10,000\n",
       "10825           100\n",
       "10826     5,000,000\n",
       "10827         5,000\n",
       "10828        10,000\n",
       "10829        10,000\n",
       "10830       100,000\n",
       "10831         5,000\n",
       "10832       100,000\n",
       "10833         1,000\n",
       "10834           500\n",
       "10835            10\n",
       "10836         5,000\n",
       "10837           100\n",
       "10838         1,000\n",
       "10839         1,000\n",
       "10840    10,000,000\n",
       "Name: Installs, Length: 9659, dtype: object"
      ]
     },
     "execution_count": 10,
     "metadata": {},
     "output_type": "execute_result"
    }
   ],
   "source": [
    "google_play_apps['Installs']"
   ]
  },
  {
   "cell_type": "markdown",
   "metadata": {},
   "source": [
    "#Then, if you want to remove character ',' in column 'Installs', you can run the following codes in Python. \n",
    "\n",
    "google_play_apps['Installs'] = google_play_apps['Installs'].apply(lambda x: x.replace(',','') if ',' in str(x) else x)"
   ]
  },
  {
   "cell_type": "markdown",
   "metadata": {},
   "source": [
    "#before running the code, check first with this code:"
   ]
  },
  {
   "cell_type": "code",
   "execution_count": 11,
   "metadata": {},
   "outputs": [
    {
     "data": {
      "text/plain": [
       "0        10,000\n",
       "1       500,000\n",
       "2     5,000,000\n",
       "3    50,000,000\n",
       "4       100,000\n",
       "Name: Installs, dtype: object"
      ]
     },
     "execution_count": 11,
     "metadata": {},
     "output_type": "execute_result"
    }
   ],
   "source": [
    "google_play_apps['Installs'].head()"
   ]
  },
  {
   "cell_type": "markdown",
   "metadata": {},
   "source": [
    "#then run the code : google_play_apps['Installs'] = google_play_apps['Installs'].apply(lambda x: x.replace(',','') if ',' in str(x) else x)"
   ]
  },
  {
   "cell_type": "code",
   "execution_count": 12,
   "metadata": {},
   "outputs": [],
   "source": [
    "google_play_apps['Installs'] = google_play_apps['Installs'].apply(lambda x: x.replace(',','') if ',' in str(x) else x)"
   ]
  },
  {
   "cell_type": "markdown",
   "metadata": {},
   "source": [
    "#check again the result with code : google_play_apps['Installs'].head()\n",
    "\n",
    "the character ',' should be dissapeared"
   ]
  },
  {
   "cell_type": "code",
   "execution_count": 13,
   "metadata": {},
   "outputs": [
    {
     "data": {
      "text/plain": [
       "0       10000\n",
       "1      500000\n",
       "2     5000000\n",
       "3    50000000\n",
       "4      100000\n",
       "Name: Installs, dtype: object"
      ]
     },
     "execution_count": 13,
     "metadata": {},
     "output_type": "execute_result"
    }
   ],
   "source": [
    "google_play_apps['Installs'].head()"
   ]
  },
  {
   "cell_type": "markdown",
   "metadata": {},
   "source": [
    "#If you want to convert data type of 'Installs' columns into integer, you can run the following code. \n",
    "\n",
    "google_play_apps['Installs']=google_play_apps['Installs'].astype(int)\n",
    "\n",
    "as we see before that dtype for 'Install' columns is object, after we run the code above it should be integer."
   ]
  },
  {
   "cell_type": "code",
   "execution_count": 14,
   "metadata": {},
   "outputs": [],
   "source": [
    "google_play_apps['Installs']=google_play_apps['Installs'].astype(int)"
   ]
  },
  {
   "cell_type": "code",
   "execution_count": 15,
   "metadata": {},
   "outputs": [
    {
     "data": {
      "text/plain": [
       "0       10000\n",
       "1      500000\n",
       "2     5000000\n",
       "3    50000000\n",
       "4      100000\n",
       "Name: Installs, dtype: int32"
      ]
     },
     "execution_count": 15,
     "metadata": {},
     "output_type": "execute_result"
    }
   ],
   "source": [
    "google_play_apps['Installs'].head()"
   ]
  },
  {
   "cell_type": "markdown",
   "metadata": {},
   "source": [
    "#Match Apps and Category based on provided dataset! \n",
    "\n",
    "(Hint: Use App and Category columns)\n",
    "\n",
    "first of all, we can make a new DataFrame which consist of 'App' and 'Category' Columns only, and then we can set 'App' as an idex of our new DataFrame."
   ]
  },
  {
   "cell_type": "code",
   "execution_count": 16,
   "metadata": {},
   "outputs": [],
   "source": [
    "appscat = google_play_apps[['App','Category']].set_index(\"App\")"
   ]
  },
  {
   "cell_type": "markdown",
   "metadata": {},
   "source": [
    "#for apps Pinterest, we can match Apps and Category with this code : appscat.loc['Pinterest',['Category']].head()"
   ]
  },
  {
   "cell_type": "code",
   "execution_count": 17,
   "metadata": {},
   "outputs": [
    {
     "data": {
      "text/plain": [
       "Category    SOCIAL\n",
       "Name: Pinterest, dtype: object"
      ]
     },
     "execution_count": 17,
     "metadata": {},
     "output_type": "execute_result"
    }
   ],
   "source": [
    "appscat.loc['Pinterest',['Category']].head()"
   ]
  },
  {
   "cell_type": "code",
   "execution_count": 18,
   "metadata": {},
   "outputs": [
    {
     "data": {
      "text/plain": [
       "Category    GAME\n",
       "Name: Subway Surfers, dtype: object"
      ]
     },
     "execution_count": 18,
     "metadata": {},
     "output_type": "execute_result"
    }
   ],
   "source": [
    "appscat.loc['Subway Surfers',['Category']].head()"
   ]
  },
  {
   "cell_type": "code",
   "execution_count": 19,
   "metadata": {},
   "outputs": [
    {
     "data": {
      "text/plain": [
       "Category    BUSINESS\n",
       "Name: File Commander - File Manager/Explorer, dtype: object"
      ]
     },
     "execution_count": 19,
     "metadata": {},
     "output_type": "execute_result"
    }
   ],
   "source": [
    "appscat.loc['File Commander - File Manager/Explorer',['Category']].head()"
   ]
  },
  {
   "cell_type": "code",
   "execution_count": 20,
   "metadata": {},
   "outputs": [
    {
     "data": {
      "text/plain": [
       "Category    NEWS_AND_MAGAZINES\n",
       "Name: Flipboard: News For Our Time, dtype: object"
      ]
     },
     "execution_count": 20,
     "metadata": {},
     "output_type": "execute_result"
    }
   ],
   "source": [
    "appscat.loc['Flipboard: News For Our Time',['Category']].head()"
   ]
  },
  {
   "cell_type": "code",
   "execution_count": 21,
   "metadata": {},
   "outputs": [
    {
     "data": {
      "text/plain": [
       "Category    COMMUNICATION\n",
       "Name: WhatsApp Messenger, dtype: object"
      ]
     },
     "execution_count": 21,
     "metadata": {},
     "output_type": "execute_result"
    }
   ],
   "source": [
    "appscat.loc['WhatsApp Messenger',['Category']].head()"
   ]
  },
  {
   "cell_type": "code",
   "execution_count": 22,
   "metadata": {},
   "outputs": [
    {
     "data": {
      "text/plain": [
       "Category    PRODUCTIVITY\n",
       "Name: Dropbox, dtype: object"
      ]
     },
     "execution_count": 22,
     "metadata": {},
     "output_type": "execute_result"
    }
   ],
   "source": [
    "appscat.loc['Dropbox',['Category']].head()"
   ]
  },
  {
   "cell_type": "code",
   "execution_count": 23,
   "metadata": {},
   "outputs": [
    {
     "data": {
      "text/plain": [
       "Category    TOOLS\n",
       "Name: DU Battery Saver - Battery Charger & Battery Life, dtype: object"
      ]
     },
     "execution_count": 23,
     "metadata": {},
     "output_type": "execute_result"
    }
   ],
   "source": [
    "appscat.loc['DU Battery Saver - Battery Charger & Battery Life',['Category']].head()"
   ]
  },
  {
   "cell_type": "code",
   "execution_count": 24,
   "metadata": {},
   "outputs": [
    {
     "data": {
      "text/plain": [
       "Category    SPORTS\n",
       "Name: FIFA Soccer, dtype: object"
      ]
     },
     "execution_count": 24,
     "metadata": {},
     "output_type": "execute_result"
    }
   ],
   "source": [
    "appscat.loc['FIFA Soccer',['Category']].head()"
   ]
  },
  {
   "cell_type": "markdown",
   "metadata": {},
   "source": [
    "#otherwise we can input all apps name with this code : appscat.loc[['Pinterest','Subway Surfers','File Commander - File Manager/Explorer','Flipboard: News For Our Time','WhatsApp Messenger','Dropbox','DU Battery Saver - Battery Charger & Battery Life','FIFA Soccer'],['Category']]"
   ]
  },
  {
   "cell_type": "code",
   "execution_count": 25,
   "metadata": {},
   "outputs": [
    {
     "data": {
      "text/html": [
       "<div>\n",
       "<style scoped>\n",
       "    .dataframe tbody tr th:only-of-type {\n",
       "        vertical-align: middle;\n",
       "    }\n",
       "\n",
       "    .dataframe tbody tr th {\n",
       "        vertical-align: top;\n",
       "    }\n",
       "\n",
       "    .dataframe thead th {\n",
       "        text-align: right;\n",
       "    }\n",
       "</style>\n",
       "<table border=\"1\" class=\"dataframe\">\n",
       "  <thead>\n",
       "    <tr style=\"text-align: right;\">\n",
       "      <th></th>\n",
       "      <th>Category</th>\n",
       "    </tr>\n",
       "    <tr>\n",
       "      <th>App</th>\n",
       "      <th></th>\n",
       "    </tr>\n",
       "  </thead>\n",
       "  <tbody>\n",
       "    <tr>\n",
       "      <th>Pinterest</th>\n",
       "      <td>SOCIAL</td>\n",
       "    </tr>\n",
       "    <tr>\n",
       "      <th>Subway Surfers</th>\n",
       "      <td>GAME</td>\n",
       "    </tr>\n",
       "    <tr>\n",
       "      <th>File Commander - File Manager/Explorer</th>\n",
       "      <td>BUSINESS</td>\n",
       "    </tr>\n",
       "    <tr>\n",
       "      <th>Flipboard: News For Our Time</th>\n",
       "      <td>NEWS_AND_MAGAZINES</td>\n",
       "    </tr>\n",
       "    <tr>\n",
       "      <th>WhatsApp Messenger</th>\n",
       "      <td>COMMUNICATION</td>\n",
       "    </tr>\n",
       "    <tr>\n",
       "      <th>Dropbox</th>\n",
       "      <td>PRODUCTIVITY</td>\n",
       "    </tr>\n",
       "    <tr>\n",
       "      <th>DU Battery Saver - Battery Charger &amp; Battery Life</th>\n",
       "      <td>TOOLS</td>\n",
       "    </tr>\n",
       "    <tr>\n",
       "      <th>FIFA Soccer</th>\n",
       "      <td>SPORTS</td>\n",
       "    </tr>\n",
       "  </tbody>\n",
       "</table>\n",
       "</div>"
      ],
      "text/plain": [
       "                                                             Category\n",
       "App                                                                  \n",
       "Pinterest                                                      SOCIAL\n",
       "Subway Surfers                                                   GAME\n",
       "File Commander - File Manager/Explorer                       BUSINESS\n",
       "Flipboard: News For Our Time                       NEWS_AND_MAGAZINES\n",
       "WhatsApp Messenger                                      COMMUNICATION\n",
       "Dropbox                                                  PRODUCTIVITY\n",
       "DU Battery Saver - Battery Charger & Battery Life               TOOLS\n",
       "FIFA Soccer                                                    SPORTS"
      ]
     },
     "execution_count": 25,
     "metadata": {},
     "output_type": "execute_result"
    }
   ],
   "source": [
    "appscat.loc[['Pinterest','Subway Surfers','File Commander - File Manager/Explorer','Flipboard: News For Our Time','WhatsApp Messenger','Dropbox','DU Battery Saver - Battery Charger & Battery Life','FIFA Soccer'],['Category']]"
   ]
  },
  {
   "cell_type": "markdown",
   "metadata": {},
   "source": [
    "#The following applications were installed by more than 1 billion users, EXCEPT ... . \n",
    "we can define a top_install consists of \"App\" and \"Installs\" column only where \"Installs\" >= 1000000000 by this code :\n",
    "\n",
    "top_install = google_play_apps[['App','Installs']]\n",
    "\n",
    "print(top_install[(top_install.Installs >= 1000000000)])"
   ]
  },
  {
   "cell_type": "code",
   "execution_count": 26,
   "metadata": {},
   "outputs": [],
   "source": [
    "top_install = google_play_apps[['App','Installs']]"
   ]
  },
  {
   "cell_type": "code",
   "execution_count": 27,
   "metadata": {},
   "outputs": [
    {
     "name": "stdout",
     "output_type": "stream",
     "text": [
      "                                           App    Installs\n",
      "152                          Google Play Books  1000000000\n",
      "335   Messenger – Text and Video Chat for Free  1000000000\n",
      "336                         WhatsApp Messenger  1000000000\n",
      "338               Google Chrome: Fast & Secure  1000000000\n",
      "340                                      Gmail  1000000000\n",
      "341                                   Hangouts  1000000000\n",
      "391              Skype - free IM & video calls  1000000000\n",
      "865                          Google Play Games  1000000000\n",
      "1654                            Subway Surfers  1000000000\n",
      "2544                                  Facebook  1000000000\n",
      "2545                                 Instagram  1000000000\n",
      "2554                                   Google+  1000000000\n",
      "2808                             Google Photos  1000000000\n",
      "3117                 Maps - Navigate & Explore  1000000000\n",
      "3127                        Google Street View  1000000000\n",
      "3234                                    Google  1000000000\n",
      "3454                              Google Drive  1000000000\n",
      "3665                                   YouTube  1000000000\n",
      "3687                   Google Play Movies & TV  1000000000\n",
      "3736                               Google News  1000000000\n"
     ]
    }
   ],
   "source": [
    "print(top_install[(top_install.Installs >= 1000000000)])"
   ]
  },
  {
   "cell_type": "markdown",
   "metadata": {},
   "source": [
    "#Arrange top COMMUNICATION category apps from the highest number of reviews to the lowest! \n",
    "\n",
    "(Hint: Convert the data type to integer first. It is similar with code that was asked in question 6. "
   ]
  },
  {
   "cell_type": "code",
   "execution_count": 40,
   "metadata": {},
   "outputs": [
    {
     "data": {
      "text/html": [
       "<div>\n",
       "<style scoped>\n",
       "    .dataframe tbody tr th:only-of-type {\n",
       "        vertical-align: middle;\n",
       "    }\n",
       "\n",
       "    .dataframe tbody tr th {\n",
       "        vertical-align: top;\n",
       "    }\n",
       "\n",
       "    .dataframe thead th {\n",
       "        text-align: right;\n",
       "    }\n",
       "</style>\n",
       "<table border=\"1\" class=\"dataframe\">\n",
       "  <thead>\n",
       "    <tr style=\"text-align: right;\">\n",
       "      <th></th>\n",
       "      <th>App</th>\n",
       "      <th>Reviews</th>\n",
       "    </tr>\n",
       "  </thead>\n",
       "  <tbody>\n",
       "    <tr>\n",
       "      <th>336</th>\n",
       "      <td>WhatsApp Messenger</td>\n",
       "      <td>69119316</td>\n",
       "    </tr>\n",
       "    <tr>\n",
       "      <th>335</th>\n",
       "      <td>Messenger – Text and Video Chat for Free</td>\n",
       "      <td>56642847</td>\n",
       "    </tr>\n",
       "    <tr>\n",
       "      <th>378</th>\n",
       "      <td>UC Browser - Fast Download Private &amp; Secure</td>\n",
       "      <td>17712922</td>\n",
       "    </tr>\n",
       "    <tr>\n",
       "      <th>406</th>\n",
       "      <td>BBM - Free Calls &amp; Messages</td>\n",
       "      <td>12842860</td>\n",
       "    </tr>\n",
       "    <tr>\n",
       "      <th>342</th>\n",
       "      <td>Viber Messenger</td>\n",
       "      <td>11334799</td>\n",
       "    </tr>\n",
       "    <tr>\n",
       "      <th>403</th>\n",
       "      <td>LINE: Free Calls &amp; Messages</td>\n",
       "      <td>10790289</td>\n",
       "    </tr>\n",
       "    <tr>\n",
       "      <th>391</th>\n",
       "      <td>Skype - free IM &amp; video calls</td>\n",
       "      <td>10484169</td>\n",
       "    </tr>\n",
       "    <tr>\n",
       "      <th>338</th>\n",
       "      <td>Google Chrome: Fast &amp; Secure</td>\n",
       "      <td>9642995</td>\n",
       "    </tr>\n",
       "    <tr>\n",
       "      <th>449</th>\n",
       "      <td>Truecaller: Caller ID, SMS spam blocking &amp; Dialer</td>\n",
       "      <td>7820209</td>\n",
       "    </tr>\n",
       "    <tr>\n",
       "      <th>365</th>\n",
       "      <td>WeChat</td>\n",
       "      <td>5387333</td>\n",
       "    </tr>\n",
       "  </tbody>\n",
       "</table>\n",
       "</div>"
      ],
      "text/plain": [
       "                                                   App   Reviews\n",
       "336                                 WhatsApp Messenger  69119316\n",
       "335           Messenger – Text and Video Chat for Free  56642847\n",
       "378        UC Browser - Fast Download Private & Secure  17712922\n",
       "406                        BBM - Free Calls & Messages  12842860\n",
       "342                                    Viber Messenger  11334799\n",
       "403                        LINE: Free Calls & Messages  10790289\n",
       "391                      Skype - free IM & video calls  10484169\n",
       "338                       Google Chrome: Fast & Secure   9642995\n",
       "449  Truecaller: Caller ID, SMS spam blocking & Dialer   7820209\n",
       "365                                             WeChat   5387333"
      ]
     },
     "execution_count": 40,
     "metadata": {},
     "output_type": "execute_result"
    }
   ],
   "source": [
    "google_play_apps['Reviews']=google_play_apps['Reviews'].astype(int)\n",
    "google_play_apps[['Reviews','Category','App']]\n",
    "communication = google_play_apps[google_play_apps.Category=='COMMUNICATION']\n",
    "top_communication = communication.sort_values('Reviews',ascending=False)\n",
    "top_communication.loc[:,['App','Reviews']].head(10)"
   ]
  },
  {
   "cell_type": "markdown",
   "metadata": {},
   "source": [
    "#Arrange top 3 game category apps based on number of installed and rating!"
   ]
  },
  {
   "cell_type": "code",
   "execution_count": 41,
   "metadata": {},
   "outputs": [
    {
     "data": {
      "text/html": [
       "<div>\n",
       "<style scoped>\n",
       "    .dataframe tbody tr th:only-of-type {\n",
       "        vertical-align: middle;\n",
       "    }\n",
       "\n",
       "    .dataframe tbody tr th {\n",
       "        vertical-align: top;\n",
       "    }\n",
       "\n",
       "    .dataframe thead th {\n",
       "        text-align: right;\n",
       "    }\n",
       "</style>\n",
       "<table border=\"1\" class=\"dataframe\">\n",
       "  <thead>\n",
       "    <tr style=\"text-align: right;\">\n",
       "      <th></th>\n",
       "      <th>Installs</th>\n",
       "      <th>Rating</th>\n",
       "    </tr>\n",
       "    <tr>\n",
       "      <th>App</th>\n",
       "      <th></th>\n",
       "      <th></th>\n",
       "    </tr>\n",
       "  </thead>\n",
       "  <tbody>\n",
       "    <tr>\n",
       "      <th>Subway Surfers</th>\n",
       "      <td>1000000000</td>\n",
       "      <td>4.5</td>\n",
       "    </tr>\n",
       "    <tr>\n",
       "      <th>My Talking Tom</th>\n",
       "      <td>500000000</td>\n",
       "      <td>4.5</td>\n",
       "    </tr>\n",
       "    <tr>\n",
       "      <th>Candy Crush Saga</th>\n",
       "      <td>500000000</td>\n",
       "      <td>4.4</td>\n",
       "    </tr>\n",
       "  </tbody>\n",
       "</table>\n",
       "</div>"
      ],
      "text/plain": [
       "                    Installs  Rating\n",
       "App                                 \n",
       "Subway Surfers    1000000000     4.5\n",
       "My Talking Tom     500000000     4.5\n",
       "Candy Crush Saga   500000000     4.4"
      ]
     },
     "execution_count": 41,
     "metadata": {},
     "output_type": "execute_result"
    }
   ],
   "source": [
    "game = google_play_apps[['App','Category','Installs','Rating']]\n",
    "game_category = game[game.Category=='GAME']\n",
    "\n",
    "#groupby its Apps with Installs value sorted \n",
    "top_3 = game_category.groupby('App').sum().sort_values('Installs',ascending=False).head()\n",
    "\n",
    "#then based on Rating value sorted\n",
    "top_3.sort_values('Rating',ascending=False).head(3)"
   ]
  }
 ],
 "metadata": {
  "kernelspec": {
   "display_name": "Python 3",
   "language": "python",
   "name": "python3"
  },
  "language_info": {
   "codemirror_mode": {
    "name": "ipython",
    "version": 3
   },
   "file_extension": ".py",
   "mimetype": "text/x-python",
   "name": "python",
   "nbconvert_exporter": "python",
   "pygments_lexer": "ipython3",
   "version": "3.7.0"
  }
 },
 "nbformat": 4,
 "nbformat_minor": 2
}
